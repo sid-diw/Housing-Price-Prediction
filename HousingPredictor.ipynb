{
 "cells": [
  {
   "cell_type": "code",
   "execution_count": null,
   "id": "6c436df2-c679-47d8-bd4c-ecd10306b93c",
   "metadata": {},
   "outputs": [],
   "source": [
    "import pandas as pd\n",
    "import numpy as np\n",
    "import matplotlib.pyplot as plt\n",
    "import seaborn as sns"
   ]
  },
  {
   "cell_type": "code",
   "execution_count": null,
   "id": "2d292d5f-8a82-4a54-ba4b-1456d87180ca",
   "metadata": {},
   "outputs": [],
   "source": [
    "data = pd.read_csv(\"housing.csv\")"
   ]
  },
  {
   "cell_type": "code",
   "execution_count": null,
   "id": "e6f80840-9567-4d98-9daa-2037bfa36ecd",
   "metadata": {},
   "outputs": [],
   "source": [
    "data.info()"
   ]
  },
  {
   "cell_type": "code",
   "execution_count": null,
   "id": "8872b657-0f02-4f19-ad5b-ab337716afe0",
   "metadata": {},
   "outputs": [],
   "source": [
    "data.dropna(inplace=True)"
   ]
  },
  {
   "cell_type": "code",
   "execution_count": null,
   "id": "f845c50e-c1ee-4fae-a6f5-671a8e6b1a68",
   "metadata": {},
   "outputs": [],
   "source": [
    "data.info()"
   ]
  },
  {
   "cell_type": "code",
   "execution_count": null,
   "id": "e35ff4a6-dbda-4104-9184-d29a6928e106",
   "metadata": {},
   "outputs": [],
   "source": [
    "from sklearn.model_selection import train_test_split\n",
    "\n",
    "X = data.drop(['median_house_value'], axis =1)\n",
    "Y = data['median_house_value']"
   ]
  },
  {
   "cell_type": "code",
   "execution_count": null,
   "id": "e0c43718-b8dd-4ac1-8c60-b0158b52e661",
   "metadata": {},
   "outputs": [],
   "source": [
    "X_train, X_test, Y_train, Y_test = train_test_split(X,Y, test_size = 0.2)"
   ]
  },
  {
   "cell_type": "code",
   "execution_count": null,
   "id": "9f63643b-d644-45b6-96ac-abea7fe52e5d",
   "metadata": {},
   "outputs": [],
   "source": [
    "train_data = X_train.join(Y_train)"
   ]
  },
  {
   "cell_type": "code",
   "execution_count": null,
   "id": "a895a74f-4a51-4e4b-ab93-edda6271bfb8",
   "metadata": {},
   "outputs": [],
   "source": [
    "train_data"
   ]
  },
  {
   "cell_type": "code",
   "execution_count": null,
   "id": "efffe7f7-e725-4555-a6ef-6b0be9429ccb",
   "metadata": {},
   "outputs": [],
   "source": [
    "train_data.hist(figsize = (15,8))"
   ]
  },
  {
   "cell_type": "code",
   "execution_count": null,
   "id": "07e7394b-5268-456c-aba5-a1e0521762e8",
   "metadata": {},
   "outputs": [],
   "source": [
    "plt.figure(figsize = (15,8))"
   ]
  },
  {
   "cell_type": "code",
   "execution_count": null,
   "id": "41aa19f6-9b43-403d-91ca-ad84097bb091",
   "metadata": {},
   "outputs": [],
   "source": [
    "plt.figure(figsize = (15,8))\n",
    "sns.heatmap(train_data.corr(numeric_only = True),annot = True, cmap = \"YlGnBu\")"
   ]
  },
  {
   "cell_type": "code",
   "execution_count": null,
   "id": "6cf6f30d-b284-4314-a435-f0aa79187a49",
   "metadata": {},
   "outputs": [],
   "source": [
    "train_data['total_rooms'] = np.log(traindata['total_rooms'] + 1)\n",
    "train_data['total_bedrooms'] = np.log(traindata['total_bedrooms'] + 1)\n",
    "train_data['population'] = np.log(traindata['population'] + 1)\n",
    "train_data['households'] = np.log(traindata['households'] + 1)"
   ]
  },
  {
   "cell_type": "code",
   "execution_count": null,
   "id": "46c3af5c-e682-47d6-88ad-aeca13696852",
   "metadata": {},
   "outputs": [],
   "source": [
    "train_data['total_rooms'] = np.log(train_data['total_rooms'] + 1)\n",
    "train_data['total_bedrooms'] = np.log(train_data['total_bedrooms'] + 1)\n",
    "train_data['population'] = np.log(train_data['population'] + 1)\n",
    "train_data['households'] = np.log(train_data['households'] + 1)"
   ]
  },
  {
   "cell_type": "code",
   "execution_count": null,
   "id": "b9e0d014-0fb3-4c89-bb42-0eec91d0c1dd",
   "metadata": {},
   "outputs": [],
   "source": [
    "train_data.hist(figsize = (15,8))"
   ]
  },
  {
   "cell_type": "code",
   "execution_count": null,
   "id": "da56aac3-a1d4-4ee1-94b6-63aa44222cae",
   "metadata": {},
   "outputs": [],
   "source": [
    "train_data.ocean_proximity.value_counts()"
   ]
  },
  {
   "cell_type": "code",
   "execution_count": null,
   "id": "9fc52051-affd-4ec1-a58e-be042cbc67cf",
   "metadata": {},
   "outputs": [],
   "source": [
    "train_data = train_data.join(pd.get_dummies(train_data.ocean_proximity)).drop(['ocean_proximity'], axis = 1)"
   ]
  },
  {
   "cell_type": "code",
   "execution_count": null,
   "id": "4f38ed71-045d-4494-8ea5-375cf3e81c02",
   "metadata": {},
   "outputs": [],
   "source": [
    "trai_data"
   ]
  },
  {
   "cell_type": "code",
   "execution_count": null,
   "id": "d4a36b97-64eb-4bdf-9752-996b9fcde1dd",
   "metadata": {},
   "outputs": [],
   "source": [
    "train_data"
   ]
  },
  {
   "cell_type": "code",
   "execution_count": null,
   "id": "83cf9e4d-5ea6-4328-ba54-d4ac65414c4b",
   "metadata": {},
   "outputs": [],
   "source": [
    "plt.figure(figsize = (15,8))\n",
    "sns.heatmap(train_data.corr(numeric_only = True),annot = True, cmap = \"YlGnBu\")"
   ]
  },
  {
   "cell_type": "code",
   "execution_count": null,
   "id": "51c5805b-69da-473d-82a6-d12ac830a7fd",
   "metadata": {},
   "outputs": [],
   "source": [
    "plt.figure(figsize = (15,8))\n",
    "sns.scatterplot(x = \"latitude\", y = \"longitude\", data = train_data, hue = \"median_house_value\", palette = \"coolwarm\")"
   ]
  },
  {
   "cell_type": "code",
   "execution_count": null,
   "id": "620f4fd1-9047-416b-903a-89b93e1a0e16",
   "metadata": {},
   "outputs": [],
   "source": [
    "train_data['bedroom_ratio'] =  train_data['total_bedrooms'] / train_data['total_rooms']\n",
    "train_data['household_rooms'] = train_data['total_rooms'] / train_data['households']"
   ]
  },
  {
   "cell_type": "code",
   "execution_count": null,
   "id": "938d2da7-8479-470f-b84d-83411a90e00c",
   "metadata": {},
   "outputs": [],
   "source": [
    "train_data"
   ]
  },
  {
   "cell_type": "code",
   "execution_count": null,
   "id": "e2adf884-4082-4a63-9c39-f142c12af5c6",
   "metadata": {},
   "outputs": [],
   "source": [
    "plt.figure(figsize = (15,8))\n",
    "sns.heatmap(train_data.corr(numeric_only = True),annot = True, cmap = \"YlGnBu\")"
   ]
  },
  {
   "cell_type": "code",
   "execution_count": null,
   "id": "58662778-7aae-4dda-b348-9df8dfe040db",
   "metadata": {},
   "outputs": [],
   "source": [
    "from sklearn.linear_model import LinearRegression\n",
    "\n",
    "\n",
    "\n",
    "\n",
    "\n",
    "X_train, Y_train = train_data.drop(['median_house_value'], axis = 1), train_data['median_house_value']\n",
    "\n",
    "reg = LinearRegression()\n",
    "reg.fit(X_train, Y_train)\n"
   ]
  },
  {
   "cell_type": "code",
   "execution_count": null,
   "id": "466fb47a-8a96-4cb5-a268-8cddd29b6d81",
   "metadata": {},
   "outputs": [],
   "source": [
    "train_data = X_train.join(Y_train)"
   ]
  },
  {
   "cell_type": "code",
   "execution_count": null,
   "id": "c1f4a10d-20e7-4496-ac46-c19b153240da",
   "metadata": {},
   "outputs": [],
   "source": [
    "train_data['total_rooms'] = np.log(train_data['total_rooms'] + 1)\n",
    "train_data['total_bedrooms'] = np.log(train_data['total_bedrooms'] + 1)\n",
    "train_data['population'] = np.log(train_data['population'] + 1)\n",
    "train_data['households'] = np.log(train_data['households'] + 1)"
   ]
  },
  {
   "cell_type": "code",
   "execution_count": null,
   "id": "654a62d7-9448-476f-99ed-0a59c26309e5",
   "metadata": {},
   "outputs": [],
   "source": [
    "X_test, Y_test = test_data.drop(['median_house_value'], axis = 1), test_data['median_house_value']"
   ]
  },
  {
   "cell_type": "code",
   "execution_count": null,
   "id": "a4859819-6946-478c-8067-e98456f9783f",
   "metadata": {},
   "outputs": [],
   "source": [
    "reg.score(X_test, Y_test)"
   ]
  },
  {
   "cell_type": "code",
   "execution_count": null,
   "id": "87bcc982-333b-4071-b1e3-2e514314e980",
   "metadata": {},
   "outputs": [],
   "source": [
    "from sklearn.ensemble import RandomForestRegressor\n",
    "\n",
    "forest = RandomForestRegressor()\n",
    "forest.fit(X_train,Y_train)"
   ]
  },
  {
   "cell_type": "code",
   "execution_count": 95,
   "id": "98a37691-1061-4214-b78e-dbacea49287b",
   "metadata": {},
   "outputs": [
    {
     "data": {
      "text/plain": [
       "0.9742092792317362"
      ]
     },
     "execution_count": 95,
     "metadata": {},
     "output_type": "execute_result"
    }
   ],
   "source": [
    "forest.score(X_train,Y_train)"
   ]
  },
  {
   "cell_type": "code",
   "execution_count": null,
   "id": "78fa015c-6542-4c5d-bb7c-6c327f4d6edd",
   "metadata": {},
   "outputs": [],
   "source": []
  }
 ],
 "metadata": {
  "kernelspec": {
   "display_name": "Python 3 (ipykernel)",
   "language": "python",
   "name": "python3"
  },
  "language_info": {
   "codemirror_mode": {
    "name": "ipython",
    "version": 3
   },
   "file_extension": ".py",
   "mimetype": "text/x-python",
   "name": "python",
   "nbconvert_exporter": "python",
   "pygments_lexer": "ipython3",
   "version": "3.12.2"
  }
 },
 "nbformat": 4,
 "nbformat_minor": 5
}
